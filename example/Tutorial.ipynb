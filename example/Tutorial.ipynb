{
 "cells": [
  {
   "cell_type": "code",
   "execution_count": 1,
   "metadata": {},
   "outputs": [],
   "source": [
    "from mlflowrate.workflow import WorkFlow"
   ]
  },
  {
   "cell_type": "code",
   "execution_count": 2,
   "metadata": {},
   "outputs": [],
   "source": [
    "from pyspark.sql import SparkSession\n",
    "from pyspark.sql.types import DoubleType, IntegerType\n",
    "spark = SparkSession.builder.getOrCreate()\n",
    "from pyspark.sql.functions import lit, unix_timestamp\n",
    "from pyspark.sql import functions"
   ]
  },
  {
   "cell_type": "code",
   "execution_count": 5,
   "metadata": {},
   "outputs": [],
   "source": [
    "dummy1 = [(\"JJ\", 1.0, 2, 3, 8, 5), (\"Bizarre\", 1.8, 3, 3, 5, None)]\n",
    "df1 = spark.createDataFrame(dummy1, [\"datetime\", \"a\", \"b\", \"c\", \"d\", \"e\"])\n",
    "\n",
    "dummy2 = [(\"John\", 1.0, 2, 3, 4, 5), (\"Snow\", 1.3, None, 4, 5, 6), (\"JJ\", 1.0, 2, 3, 8, 5), (\"Bizarre\", 1.8, 3, 3, 5, 6)]\n",
    "df2 = spark.createDataFrame(dummy2, [\"datetime\", \"a\", \"b\", \"c\", \"d\", \"e\"])"
   ]
  },
  {
   "cell_type": "code",
   "execution_count": 9,
   "metadata": {},
   "outputs": [],
   "source": [
    "dfs = {\"d1\":df1, \n",
    "       \"d2\":df2}\n",
    "\n",
    "flow = WorkFlow(dfs)"
   ]
  },
  {
   "cell_type": "code",
   "execution_count": 19,
   "metadata": {},
   "outputs": [
    {
     "name": "stdout",
     "output_type": "stream",
     "text": [
      "\n",
      "df\n",
      "~~~~~~~~~~~~~~~~~~\n",
      "Organised (dataframe format == dictionary format): False\n",
      "Number of samples in dataframe: 6\n",
      "Number of date duplicates in dataframe: 2\n",
      "Number of samples with null across columns in dictionary:\n",
      "e  |  Samples 6  |  Nulls 1  |  Duplicates 2\n",
      "b  |  Samples 6  |  Nulls 1  |  Duplicates 2\n",
      "c  |  Samples 6  |  Nulls 0  |  Duplicates 2\n",
      "a  |  Samples 6  |  Nulls 0  |  Duplicates 2\n",
      "d  |  Samples 6  |  Nulls 0  |  Duplicates 2\n"
     ]
    }
   ],
   "source": [
    "flow.integrate.merge_data(newname=\"df\", first=\"d1\", second=\"d2\", axis=0)\n",
    "flow.integrate.status(\"df\")"
   ]
  },
  {
   "cell_type": "code",
   "execution_count": 23,
   "metadata": {},
   "outputs": [
    {
     "name": "stdout",
     "output_type": "stream",
     "text": [
      "+--------+---+----+---+---+----+\n",
      "|datetime|  a|   b|  c|  d|   e|\n",
      "+--------+---+----+---+---+----+\n",
      "|      JJ|1.0|   2|  3|  8|   5|\n",
      "| Bizarre|1.8|   3|  3|  5|null|\n",
      "|    John|1.0|   2|  3|  4|   5|\n",
      "|    Snow|1.3|null|  4|  5|   6|\n",
      "|      JJ|1.0|   2|  3|  8|   5|\n",
      "| Bizarre|1.8|   3|  3|  5|   6|\n",
      "+--------+---+----+---+---+----+\n",
      "\n"
     ]
    }
   ],
   "source": [
    "flow.integrate.dfs[\"df\"].show()"
   ]
  },
  {
   "cell_type": "code",
   "execution_count": null,
   "metadata": {},
   "outputs": [],
   "source": []
  }
 ],
 "metadata": {
  "kernelspec": {
   "display_name": "Python 3",
   "language": "python",
   "name": "python3"
  },
  "language_info": {
   "codemirror_mode": {
    "name": "ipython",
    "version": 3
   },
   "file_extension": ".py",
   "mimetype": "text/x-python",
   "name": "python",
   "nbconvert_exporter": "python",
   "pygments_lexer": "ipython3",
   "version": "3.5.6"
  }
 },
 "nbformat": 4,
 "nbformat_minor": 2
}
